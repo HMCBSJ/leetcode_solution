{
  "nbformat": 4,
  "nbformat_minor": 0,
  "metadata": {
    "colab": {
      "name": "Flatten Nested List Iterator Solution",
      "provenance": [],
      "collapsed_sections": []
    },
    "kernelspec": {
      "name": "python3",
      "display_name": "Python 3"
    },
    "language_info": {
      "name": "python"
    }
  },
  "cells": [
    {
      "cell_type": "markdown",
      "metadata": {
        "id": "5biXCJC0e1LW"
      },
      "source": [
        "## Flatten Nested List Iterator \n",
        "\n",
        "Solution\n",
        "\n",
        "- python code\n",
        "\n"
      ]
    },
    {
      "cell_type": "markdown",
      "metadata": {
        "id": "Bg7IeCGnecFr"
      },
      "source": [
        "\n",
        "\n",
        "> You are given a nested list of integers nestedList. Each element is either an integer or a list whose elements may also be integers or other lists. Implement an iterator to flatten it."
      ]
    },
    {
      "cell_type": "markdown",
      "metadata": {
        "id": "LcG-lJ3ee-9x"
      },
      "source": [
        "Implement the NestedIterator class:\n",
        "\n",
        "\n",
        "\n",
        "> NestedIterator(List<NestedInteger> nestedList) Initializes the iterator with the nested list nestedList.\n",
        "int next() Returns the next integer in the nested list.\n",
        "boolean hasNext() Returns true if there are still some integers in the nested list and false otherwise.\n",
        "\n",
        "\n",
        "\n",
        "\n"
      ]
    },
    {
      "cell_type": "code",
      "metadata": {
        "id": "wPVfkcMhoehc"
      },
      "source": [
        "Python Code:\n",
        "\n",
        "(Jump to: Problem Description || Solution Idea)\n",
        "class NestedIterator:\n",
        "    def __init__(self, nestedList: [NestedInteger]):\n",
        "        self.data = []\n",
        "        self.flatten(nestedList)\n",
        "\n",
        "    def flatten(self, lst):\n",
        "        for el in lst:\n",
        "            if el.isInteger(): self.data.append(el.getInteger())\n",
        "            else: self.flatten(el.getList())\n",
        "\n",
        "    def hasNext(self) -> bool: return len(self.data)\n",
        "\n",
        "    def next(self) -> int: return self.data.pop(0)"
      ],
      "execution_count": null,
      "outputs": []
    },
    {
      "cell_type": "code",
      "metadata": {
        "id": "ObkCA_7yROgo"
      },
      "source": [
        ""
      ],
      "execution_count": null,
      "outputs": []
    },
    {
      "cell_type": "code",
      "metadata": {
        "id": "dw6DxG4FROjE"
      },
      "source": [
        ""
      ],
      "execution_count": null,
      "outputs": []
    },
    {
      "cell_type": "code",
      "metadata": {
        "id": "G8kC-suhROmB"
      },
      "source": [
        ""
      ],
      "execution_count": null,
      "outputs": []
    }
  ]
}