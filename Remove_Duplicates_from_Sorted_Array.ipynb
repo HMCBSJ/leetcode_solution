{
  "nbformat": 4,
  "nbformat_minor": 0,
  "metadata": {
    "colab": {
      "name": "Remove Duplicates from Sorted Array.ipynb",
      "provenance": []
    },
    "kernelspec": {
      "name": "python3",
      "display_name": "Python 3"
    },
    "language_info": {
      "name": "python"
    }
  },
  "cells": [
    {
      "cell_type": "code",
      "metadata": {
        "id": "WggVidbPk77l"
      },
      "source": [
        "# Python3 program to\n",
        "# remove duplicates\n",
        "# Function to remove\n",
        "# duplicate elements\n",
        " \n",
        "# This function returns\n",
        "# new size of modified\n",
        "# array.\n",
        "def removeDuplicates(arr, n):\n",
        " \n",
        "    # Return, if array is\n",
        "    # empty or contains\n",
        "    # a single element\n",
        "    if n == 0 or n == 1:\n",
        "        return n\n",
        " \n",
        "    temp = list(range(n))\n",
        " \n",
        "    # Start traversing elements\n",
        "    j = 0;\n",
        "    for i in range(0, n-1):\n",
        " \n",
        "        # If current element is\n",
        "        # not equal to next\n",
        "        # element then store that\n",
        "        # current element\n",
        "        if arr[i] != arr[i+1]:\n",
        "            temp[j] = arr[i]\n",
        "            j += 1\n",
        " \n",
        "    # Store the last element\n",
        "    # as whether it is unique\n",
        "    # or repeated, it hasn't\n",
        "    # stored previously\n",
        "    temp[j] = arr[n-1]\n",
        "    j += 1\n",
        "     \n",
        "    # Modify original array\n",
        "    for i in range(0, j):\n",
        "        arr[i] = temp[i]\n",
        " \n",
        "    return j\n",
        " \n",
        "# Driver code\n",
        "arr = [1, 2, 2, 3, 4, 4, 4, 5, 5]\n",
        "n = len(arr)\n",
        " \n",
        "# removeDuplicates() returns\n",
        "# new size of array.\n",
        "n = removeDuplicates(arr, n)\n",
        " \n",
        "# Print updated array\n",
        "for i in range(n):\n",
        "    print (\"%d\"%(arr[i]), end = \" \")"
      ],
      "execution_count": null,
      "outputs": []
    }
  ]
}