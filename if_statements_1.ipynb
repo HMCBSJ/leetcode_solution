{
  "nbformat": 4,
  "nbformat_minor": 0,
  "metadata": {
    "colab": {
      "name": "Types of Arguments",
      "provenance": []
    },
    "kernelspec": {
      "name": "python3",
      "display_name": "Python 3"
    },
    "language_info": {
      "name": "python"
    }
  },
  "cells": [
    {
      "cell_type": "markdown",
      "metadata": {
        "id": "hZu4cObSHZxp"
      },
      "source": [
        "If Statement\n",
        "“Okay okay okay, boolean variables, boolean expressions, blah blah blah, I thought I was learning how to build control flow into my code!”\n",
        "\n",
        "You are, I promise you!\n",
        "\n",
        "Understanding boolean variables and expressions is essential because they are the building blocks of conditional statements.\n",
        "\n",
        "Recall the waking-up example from the beginning of this lesson. The decision-making process of “Is it raining? If so, bring an umbrella” is a conditional statement.\n",
        "\n",
        "Here it is phrased in a different way:"
      ]
    },
    {
      "cell_type": "code",
      "metadata": {
        "id": "cX9861eJHe1t"
      },
      "source": [
        "# Enter a user name here, make sure to make it a string\n",
        "user_name = \"angela_catlady_87\"\n",
        "\n",
        "if user_name == \"angela_catlady_87\":\n",
        "  print(\"I know it is you, Dave! Go away!\")"
      ],
      "execution_count": null,
      "outputs": []
    }
  ]
}