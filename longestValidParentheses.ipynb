{
  "nbformat": 4,
  "nbformat_minor": 0,
  "metadata": {
    "colab": {
      "name": "Untitled0.ipynb",
      "provenance": [],
      "collapsed_sections": []
    },
    "kernelspec": {
      "name": "python3",
      "display_name": "Python 3"
    },
    "language_info": {
      "name": "python"
    }
  },
  "cells": [
    {
      "cell_type": "code",
      "metadata": {
        "id": "GRVN3nop7Xzj"
      },
      "source": [
        "class Solution:\n",
        "    def longestValidParentheses(self, S: str) -> int:\n",
        "        stack, ans = [-1], 0\n",
        "        for i in range(len(S)):\n",
        "            if S[i] == '(': stack.append(i)\n",
        "            elif len(stack) == 1: stack[0] = i\n",
        "            else:\n",
        "                stack.pop()\n",
        "                ans = max(ans, i - stack[-1])\n",
        "        return ans\n",
        "\n"
      ],
      "execution_count": 18,
      "outputs": []
    },
    {
      "cell_type": "code",
      "metadata": {
        "id": "LORrBsLbBp1r"
      },
      "source": [
        ""
      ],
      "execution_count": null,
      "outputs": []
    }
  ]
}