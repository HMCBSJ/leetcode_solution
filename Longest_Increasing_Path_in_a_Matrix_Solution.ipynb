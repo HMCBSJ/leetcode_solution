{
  "nbformat": 4,
  "nbformat_minor": 0,
  "metadata": {
    "colab": {
      "name": "Longest Increasing Path in a Matrix    Solution",
      "provenance": [],
      "collapsed_sections": []
    },
    "kernelspec": {
      "name": "python3",
      "display_name": "Python 3"
    },
    "language_info": {
      "name": "python"
    }
  },
  "cells": [
    {
      "cell_type": "markdown",
      "metadata": {
        "id": "5biXCJC0e1LW"
      },
      "source": [
        "## Verifying an Alien Dictionary  Solution\n",
        "- python code\n",
        "\n"
      ]
    },
    {
      "cell_type": "markdown",
      "metadata": {
        "id": "Bg7IeCGnecFr"
      },
      "source": [
        "Given an m x n integers matrix, return the length of the longest increasing path in matrix.<br>\n",
        "\n",
        "From each cell, you can either move in four directions: left, right, up, or down. You may not move diagonally or move outside the boundary (i.e., wrap-around is not allowed).<br>"
      ]
    },
    {
      "cell_type": "markdown",
      "metadata": {
        "id": "LcG-lJ3ee-9x"
      },
      "source": [
        "Example 1:<br>\n",
        "\n",
        "> Input: Input: matrix = [[9,9,4],[6,6,8],[2,1,1]]<br>\n",
        "Output: 4<br>\n",
        "Explanation: The longest increasing path is [1, 2, 6, 9].<br>\n",
        "\n",
        "Example 2:<br>\n",
        ">Input: matrix = [[3,4,5],[3,2,6],[2,2,1]]<br>\n",
        "Output: 4<br>\n",
        "Explanation: The longest increasing path is [3, 4, 5, 6]. <br>Moving diagonally is not allowed.<br>\n",
        "\n",
        "Example 3:<br>\n",
        "> Input: matrix = [[1]]<br>\n",
        "Output: 1<br>\n",
        "\n",
        "Constraints:<br>\n",
        "\n",
        "> m == matrix.length<br>\n",
        "n == matrix[i].length<br>\n",
        "1 <= m, n <= 200<br>\n",
        "0 <= matrix[i][j] <= 231 - 1<br>\n",
        "\n",
        "\n",
        "\n",
        "\n"
      ]
    },
    {
      "cell_type": "markdown",
      "metadata": {
        "id": "8s3bh1LCbTY5"
      },
      "source": [
        ""
      ]
    },
    {
      "cell_type": "code",
      "metadata": {
        "id": "HcbNt14r_Ivp"
      },
      "source": [
        "class Solution:\n",
        "    def longestIncreasingPath(self, M: List[List[int]]) -> int:\n",
        "        ylen, xlen = len(M), len(M[0])\n",
        "        @lru_cache(maxsize=None)\n",
        "        def dfs(y, x):\n",
        "            val = M[y][x]\n",
        "            return 1 + max(\n",
        "                dfs(y+1,x) if y < ylen - 1 and val > M[y+1][x] else 0,\n",
        "                dfs(y-1,x) if y > 0 and val > M[y-1][x] else 0, \n",
        "                dfs(y,x+1) if x < xlen - 1 and val > M[y][x+1] else 0,\n",
        "                dfs(y,x-1) if x > 0 and val > M[y][x-1] else 0)\n",
        "        return max(dfs(y, x) for y in range(ylen) for x in range(xlen))"
      ],
      "execution_count": null,
      "outputs": []
    },
    {
      "cell_type": "code",
      "metadata": {
        "id": "LORrBsLbBp1r"
      },
      "source": [
        "test = Solution()"
      ],
      "execution_count": null,
      "outputs": []
    },
    {
      "cell_type": "code",
      "metadata": {
        "id": "gV7yOnI5dGus"
      },
      "source": [
        ""
      ],
      "execution_count": null,
      "outputs": []
    },
    {
      "cell_type": "code",
      "metadata": {
        "id": "NMxjqixUg0m4"
      },
      "source": [
        ""
      ],
      "execution_count": null,
      "outputs": []
    }
  ]
}