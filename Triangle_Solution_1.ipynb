{
  "nbformat": 4,
  "nbformat_minor": 0,
  "metadata": {
    "colab": {
      "name": "Triangle  Solution",
      "provenance": []
    },
    "kernelspec": {
      "name": "python3",
      "display_name": "Python 3"
    },
    "language_info": {
      "name": "python"
    }
  },
  "cells": [
    {
      "cell_type": "markdown",
      "metadata": {
        "id": "hZu4cObSHZxp"
      },
      "source": [
        "Given a triangle array, return the minimum path sum from top to bottom.\n",
        "\n",
        "For each step, you may move to an adjacent number of the row below. More formally, if you are on index i on the current row, you may move to either index i or index i + 1 on the next row."
      ]
    },
    {
      "cell_type": "code",
      "metadata": {
        "id": "cX9861eJHe1t"
      },
      "source": [
        "class Solution:\n",
        "    def minimumTotal(self, T: List[List[int]]) -> int:\n",
        "        for i in range(len(T)-2,-1,-1):\n",
        "            for j in range(len(T[i])-1,-1,-1):\n",
        "                T[i][j] += min(T[i+1][j], T[i+1][j+1])\n",
        "        return T[0][0]"
      ],
      "execution_count": null,
      "outputs": []
    }
  ]
}