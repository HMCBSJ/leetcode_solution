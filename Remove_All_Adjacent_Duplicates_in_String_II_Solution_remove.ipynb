{
  "nbformat": 4,
  "nbformat_minor": 0,
  "metadata": {
    "colab": {
      "name": " Remove All Adjacent Duplicates in String II  Solution_remove",
      "provenance": [],
      "collapsed_sections": []
    },
    "kernelspec": {
      "name": "python3",
      "display_name": "Python 3"
    },
    "language_info": {
      "name": "python"
    }
  },
  "cells": [
    {
      "cell_type": "markdown",
      "metadata": {
        "id": "5biXCJC0e1LW"
      },
      "source": [
        "## Remove All Adjacent Duplicates in String II\n",
        "\n",
        "Solution\n",
        "\n",
        "- python code\n",
        "\n"
      ]
    },
    {
      "cell_type": "markdown",
      "metadata": {
        "id": "Bg7IeCGnecFr"
      },
      "source": [
        "\n",
        "\n",
        "> You are given a string s and an integer k, a k duplicate removal consists of choosing k adjacent and equal letters from s and removing them, causing the left and the right side of the deleted substring to concatenate together.\n",
        " "
      ]
    },
    {
      "cell_type": "code",
      "metadata": {
        "id": "ObkCA_7yROgo"
      },
      "source": [
        "class Solution {\n",
        "    public String removeDuplicates(String S, int K) {\n",
        "        for (int i = 1, count = 1; i < S.length(); i++) {\n",
        "            count = S.charAt(i) == S.charAt(i-1) ? count + 1 : 1;\n",
        "            if (count == K) \n",
        "                S = removeDuplicates(S.substring(0, i-K+1) + S.substring(i+1), K);\n",
        "        }\n",
        "        return S;\n",
        "    }\n",
        "}"
      ],
      "execution_count": null,
      "outputs": []
    },
    {
      "cell_type": "code",
      "metadata": {
        "id": "dw6DxG4FROjE"
      },
      "source": [
        ""
      ],
      "execution_count": null,
      "outputs": []
    },
    {
      "cell_type": "code",
      "metadata": {
        "id": "G8kC-suhROmB"
      },
      "source": [
        ""
      ],
      "execution_count": null,
      "outputs": []
    }
  ]
}