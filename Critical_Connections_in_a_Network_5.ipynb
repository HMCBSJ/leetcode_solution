{
  "nbformat": 4,
  "nbformat_minor": 0,
  "metadata": {
    "colab": {
      "name": "Critical Connections in a Network",
      "provenance": []
    },
    "kernelspec": {
      "name": "python3",
      "display_name": "Python 3"
    },
    "language_info": {
      "name": "python"
    }
  },
  "cells": [
    {
      "cell_type": "markdown",
      "metadata": {
        "id": "hZu4cObSHZxp"
      },
      "source": [
        "There are n servers numbered from 0 to n - 1 connected by undirected server-to-server connections forming a network where connections[i] = [ai, bi] represents a connection between servers ai and bi. Any server can reach other servers directly or indirectly through the network.\n",
        "\n",
        "A critical connection is a connection that, if removed, will make some servers unable to reach some other server.\n",
        "\n",
        "Return all critical connections in the network in any order."
      ]
    },
    {
      "cell_type": "code",
      "metadata": {
        "id": "cX9861eJHe1t"
      },
      "source": [
        "def criticalConnections(self, n: int, connections: List[List[int]]) -> List[List[int]]:\n",
        "\n",
        "        disc = [-1]*n\n",
        "        low = [-1]*n\n",
        "        self.time = 0\n",
        "        graph = defaultdict(list)\n",
        "        bridges = []\n",
        "        for u,v in connections:\n",
        "            graph[u].append(v)\n",
        "            graph[v].append(u)\n",
        "\n",
        "        def dfs(node,parent):\n",
        "            #print(parent)\n",
        "            if disc[node] != -1:\n",
        "                return \n",
        "\n",
        "            disc[node] = self.time\n",
        "            low[node] = self.time\n",
        "            self.time += 1\n",
        "\n",
        "            for neighbor in graph[node]:\n",
        "                if neighbor == parent:\n",
        "                    continue\n",
        "                dfs(neighbor,node)\n",
        "\n",
        "                low[node] = min(low[neighbor],low[node])\n",
        "\n",
        "                if disc[node] < low[neighbor] :\n",
        "                    bridges.append([node,neighbor])\n",
        "\n",
        "        dfs(0,-1)\n",
        "        #print(low)\n",
        "        return bridges"
      ],
      "execution_count": 1,
      "outputs": []
    },
    {
      "cell_type": "code",
      "metadata": {
        "id": "yJaRwLHpjmtE"
      },
      "source": [
        ""
      ],
      "execution_count": null,
      "outputs": []
    }
  ]
}