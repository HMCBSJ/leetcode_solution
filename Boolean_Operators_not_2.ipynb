{
  "nbformat": 4,
  "nbformat_minor": 0,
  "metadata": {
    "colab": {
      "name": "Boolean Operators : not",
      "provenance": []
    },
    "kernelspec": {
      "name": "python3",
      "display_name": "Python 3"
    },
    "language_info": {
      "name": "python"
    }
  },
  "cells": [
    {
      "cell_type": "markdown",
      "metadata": {
        "id": "hZu4cObSHZxp"
      },
      "source": [
        "Boolean Operators: not\n",
        "The final boolean operator we will cover is not. This operator is straightforward: when applied to any boolean expression it reverses the boolean value. So if we have a True statement and apply a not operator we get a False statement."
      ]
    },
    {
      "cell_type": "code",
      "metadata": {
        "id": "cX9861eJHe1t"
      },
      "source": [
        "statement_one = False\n",
        "\n",
        "statement_two = True\n",
        "\n",
        "credits = 120\n",
        "gpa = 1.8\n",
        "\n",
        "if not credits >= 120:\n",
        "  print(\"You do not have enough credits to graduate.\")\n",
        "if not gpa >= 2.0:\n",
        "  print(\"Your GPA is not high enough to graduate.\")\n",
        "if not (credits >= 120) and not (gpa >= 2.0):\n",
        "  print(\"You do not meet either requirement to graduate!\")"
      ],
      "execution_count": null,
      "outputs": []
    }
  ]
}