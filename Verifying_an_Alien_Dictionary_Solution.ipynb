{
  "nbformat": 4,
  "nbformat_minor": 0,
  "metadata": {
    "colab": {
      "name": "Verifying an Alien Dictionary  Solution",
      "provenance": [],
      "collapsed_sections": []
    },
    "kernelspec": {
      "name": "python3",
      "display_name": "Python 3"
    },
    "language_info": {
      "name": "python"
    }
  },
  "cells": [
    {
      "cell_type": "markdown",
      "metadata": {
        "id": "5biXCJC0e1LW"
      },
      "source": [
        "## Verifying an Alien Dictionary  Solution\n",
        "\n"
      ]
    },
    {
      "cell_type": "markdown",
      "metadata": {
        "id": "Bg7IeCGnecFr"
      },
      "source": [
        "In an alien language, surprisingly they also use english lowercase letters, but possibly in a different order. The order of the alphabet is some permutation of lowercase letters.<br>\n",
        "\n",
        "Given a sequence of words written in the alien language, and the order of the alphabet, return true if and only if the given words are sorted lexicographicaly in this alien language.<br>"
      ]
    },
    {
      "cell_type": "markdown",
      "metadata": {
        "id": "LcG-lJ3ee-9x"
      },
      "source": [
        "Example 1:<br>\n",
        "\n",
        "> Input: words = [\"hello\",\"leetcode\"],<br> order = \"hlabcdefgijkmnopqrstuvwxyz\"\n",
        "Output: true<br>\n",
        "Explanation: As 'h' comes before 'l' in this language, then the sequence is sorted.<br>\n",
        "\n",
        "Example 2:<br>\n",
        ">Input: words = [\"word\",\"world\",\"row\"],<br> order = \"worldabcefghijkmnpqstuvxyz\"<br>\n",
        "Output: false<br>\n",
        "Explanation: As 'd' comes after 'l' in this language, then words[0] > words[1], hence the sequence is unsorted<br><br>\n",
        "\n",
        "Example 3:<br>\n",
        "> Input: words = [\"apple\",\"app\"],<br> order = \"abcdefghijklmnopqrstuvwxyz\"<br>\n",
        "Output: false<br>\n",
        "Explanation: The first three characters \"app\" match, and the second string is shorter (in size.) According to lexicographical rules \"apple\" > \"app\", because 'l' > '∅', where '∅' is defined as the blank character which is less than any other character (More info).<br>\n",
        "\n",
        "Constraints:<br>\n",
        "\n",
        "> 1 <= words.length <= 100<br>\n",
        "1 <= words[i].length <= 20<br>\n",
        "order.length == 26<br>\n",
        "All characters in words[i] and order are English lowercase letters.<br>\n",
        "\n",
        "\n",
        "\n",
        "\n"
      ]
    },
    {
      "cell_type": "code",
      "metadata": {
        "id": "HcbNt14r_Ivp"
      },
      "source": [
        "class Solution:\n",
        "    def isAlienSorted(self, W: List[str], O: str) -> bool:\n",
        "        alpha = {O[i]: i for i in range(len(O))}\n",
        "        for i in range(1,len(W)):\n",
        "            a, b = W[i-1], W[i]\n",
        "            for j in range(len(a)):\n",
        "                if j == len(b): return False\n",
        "                achar, bchar = a[j], b[j]\n",
        "                aix, bix = alpha[achar], alpha[bchar]\n",
        "                if aix < bix: break\n",
        "                if aix > bix: return False\n",
        "        return True"
      ],
      "execution_count": null,
      "outputs": []
    },
    {
      "cell_type": "code",
      "metadata": {
        "id": "ltTdbDKw4SND"
      },
      "source": [
        ""
      ],
      "execution_count": null,
      "outputs": []
    },
    {
      "cell_type": "code",
      "metadata": {
        "id": "LORrBsLbBp1r"
      },
      "source": [
        "test = Solution()"
      ],
      "execution_count": 16,
      "outputs": []
    },
    {
      "cell_type": "code",
      "metadata": {
        "id": "9iPIU2wgdB89"
      },
      "source": [
        "test.isAlienSorted()"
      ],
      "execution_count": null,
      "outputs": []
    },
    {
      "cell_type": "code",
      "metadata": {
        "id": "gV7yOnI5dGus"
      },
      "source": [
        ""
      ],
      "execution_count": null,
      "outputs": []
    },
    {
      "cell_type": "code",
      "metadata": {
        "id": "NMxjqixUg0m4"
      },
      "source": [
        ""
      ],
      "execution_count": null,
      "outputs": []
    }
  ]
}