{
  "nbformat": 4,
  "nbformat_minor": 0,
  "metadata": {
    "colab": {
      "name": "Minimum Operations to Make Array Equal",
      "provenance": [],
      "collapsed_sections": []
    },
    "kernelspec": {
      "name": "python3",
      "display_name": "Python 3"
    },
    "language_info": {
      "name": "python"
    }
  },
  "cells": [
    {
      "cell_type": "markdown",
      "metadata": {
        "id": "5biXCJC0e1LW"
      },
      "source": [
        "## Minimum Operations to Make Array Equal"
      ]
    },
    {
      "cell_type": "markdown",
      "metadata": {
        "id": "Bg7IeCGnecFr"
      },
      "source": [
        "You have an array arr of length n where arr[i] = (2 * i) + 1 for all valid values of i (i.e. 0 <= i < n).\n",
        "\n",
        "In one operation, you can select two indices x and y where 0 <= x, y < n and subtract 1 from arr[x] and add 1 to arr[y] (i.e. perform arr[x] -=1 and arr[y] += 1). The goal is to make all the elements of the array equal. It is guaranteed that all the elements of the array can be made equal using some operations.\n",
        "\n",
        "Given an integer n, the length of the array. Return the minimum number of operations needed to make all the elements of arr equal."
      ]
    },
    {
      "cell_type": "markdown",
      "metadata": {
        "id": "LcG-lJ3ee-9x"
      },
      "source": [
        "Example 1:<br>\n",
        "Input: n = 3<br>\n",
        "Output: 2<br>\n",
        "Explanation: arr = [1, 3, 5]<br>\n",
        "First operation choose x = 2 and y = 0, this leads arr to be [2, 3, 4]<br>\n",
        "In the second operation choose x = 2 and y = 0 again, thus arr = [3, 3, 3].<br>\n",
        "\n",
        "Example 2:<br>\n",
        "Input: n = 6<br>\n",
        "Output: 9<br>\n",
        "\n",
        "\n",
        "Constraints:<br>\n",
        "\n",
        "> 1 <= n <= 10^4<br>\n",
        "\n",
        "\n"
      ]
    },
    {
      "cell_type": "code",
      "metadata": {
        "id": "GRVN3nop7Xzj"
      },
      "source": [
        "class Solution:\n",
        "    def minOperations(self, n: int) -> int:\n",
        "        return n * n >> 2"
      ],
      "execution_count": 1,
      "outputs": []
    },
    {
      "cell_type": "code",
      "metadata": {
        "id": "LORrBsLbBp1r"
      },
      "source": [
        "test = Solution()"
      ],
      "execution_count": 2,
      "outputs": []
    },
    {
      "cell_type": "code",
      "metadata": {
        "colab": {
          "base_uri": "https://localhost:8080/"
        },
        "id": "9iPIU2wgdB89",
        "outputId": "345df1a1-1183-468e-d6a9-340ba973f79e"
      },
      "source": [
        "test.minOperations(6)"
      ],
      "execution_count": 7,
      "outputs": [
        {
          "output_type": "execute_result",
          "data": {
            "text/plain": [
              "9"
            ]
          },
          "metadata": {
            "tags": []
          },
          "execution_count": 7
        }
      ]
    },
    {
      "cell_type": "code",
      "metadata": {
        "id": "gV7yOnI5dGus"
      },
      "source": [
        ""
      ],
      "execution_count": null,
      "outputs": []
    },
    {
      "cell_type": "markdown",
      "metadata": {
        "id": "KtSmhG3Tgs8b"
      },
      "source": [
        "This is a standard algorithmic problem confirmed to have been asked in many technical interviews. This problem appeared in the April 2021 Leetcode monthly challenge with the difficulty of Medium. Whether you are prepping for a technical interview or you are just an algorithm lover like me, I strongly believe this post will make an interesting read.<br>\n",
        "\n",
        "Problem Statement<br>\n",
        "You have an array arr of length n where arr[i] = (2 * i) + 1 for all valid values of i (i.e. 0 <= i < n).<br>\n",
        "In one operation, you can select two indices x and y where 0 <= x, y < n and subtract 1 from arr[x] and add 1 to arr[y] (i.e. perform arr[x] -=1 and arr[y] += 1). The goal is to make all the elements of the array equal. <br>It is guaranteed that all the elements of the array can be made equal using some operations.<br>\n",
        "\n",
        "Given an integer n, the length of the array.<br> Return the minimum number of operations needed to make all the elements of arr equal.<br>\n",
        "\n",
        "Example<br>\n",
        "Input: n = 3<br>\n",
        "Output: 2<br>\n",
        "Explanation: arr = [1, 3, 5]<br>\n",
        "First operation choose x = 2 and y = 0, this leads arr to be [2, 3, 4]<br>\n",
        "In the second operation choose x = 2 and y = 0 again, thus arr = [3, 3, 3].<br>\n",
        "\n",
        "SOLUTION<br>\n",
        "When faced with this kind of problem in an interview, what would be your first step? Given such an array,<br>\n",
        "1) How do you find the target number, i.e. the number that all other elements should be equal to?<br>\n",
        "2) Since operations are performed between pairs of elements in the array, how can we optima<br>ly select which pair to operate on?<br>\n",
        "\n",
        "Identify Patterns: Brute-Force<br>\n",
        "The first and best step to solving any algorithmic problems that are new to you is always to try to observe some common patterns using few test cases.<br>\n",
        "Now, we’ll study two test arrays by considering all possible arrangements of pairs of elements in each of the arrays. <br>That way, the first pair in each arrangement will be used to generate the target number and we will try to reduce other remaining pairs in the arrangement to the generated target number.<br>\n",
        "\n",
        "TEST 1: when nis even. Let n = 4, arr=[1,3,5,7]<br>\n",
        "There are 6 different arrangement of pairs for this array.<br>\n",
        "{1,3}, {5,7}<br>\n",
        "{1,5},{3,7}<br>\n",
        "{1,7},{3,5}<br>\n",
        "{3,5},{1,7}<br>\n",
        "{5,7},{1,3}<br>\n",
        "<br>\n",
        "i. {1,3} reduces to {2,2} in 1 operation. Then target number = 2<br>\n",
        "{5,7}→ It is not possible to reduce elements of this pair to 2.<br>\n",
        "\n",
        "ii. {1,5} reduces to {3,3} in 2 operations. Then target number = 3<br>\n",
        "{3,7}→ It is not possible to reduce 7 to 3.<br>\n",
        "\n",
        "iii. {1,7} reduces to {4,4} in 3 operations. Then target number =4<br>\n",
        "{3,5} reduces to {4,4} in 1 operation.<br>\n",
        "Thus, 4 operations are required to reduce all elements to 4.<br>\n",
        "\n",
        "iv. {3,5} reduces to {4,4} in 1 operation. Then target number = 4<br>\n",
        "{1,7} reduces to {4,4} in 3 operations.<br>\n",
        "Thus, 4 operations are required to reduce all elements to 4.<br>\n",
        "\n",
        "v. {3,7} reduces to {5,5} in 2 operations. Then target number = 5<br>\n",
        "{1,5} → It is not possible to change 1 to 5.<br>\n",
        "\n",
        "vi. {5,7} reduces to {6,6} in 1 operation. Then target number = 6<br>\n",
        "{1,3} → It is not possible to change the elements of this pair to 6<br>\n",
        "\n",
        "We Found a Pattern<br>\n",
        "Voila! we found the pattern we’re looking for. <br>Steps iii and iv give the required solution. Notice that steps iii and iv are the same process in the opposite direction. <br>Whichever pattern you take will definitely give you a solution. By step iii, here are important points to note:<br>\n",
        "1) The target number is the number of operations required to make the two middle elements equal. <br>Then the minimum operation is achieved when all other remaining pairs are reduced to this target number.<br>\n",
        "2) A pair is made up of 2 elements that are at the same distance from the center of the array. See the image below.<br>\n",
        "3) Given a pair of array elements say {a,b}, the number of operations requires to make them equal to the target number is half of the positive difference between the two elements of the pair i.e. (b-a)/2 where b > a.<br>\n",
        "4) From the image below, arr[i] forms a pair with arr[n-i-1]. <br>Since arr[i]=(2*i)+1 and arr[n-i-1] > arr[i], the number of operation required to reduce the pair {arr[i], arr[n-i-1)} to the target number is calculated as follows<br>\n",
        "\n",
        "=(arr[n-i-1]-arr[i])/2<br>\n",
        "= (2(n-i-1) — (2i +1))/2<br>\n",
        "= n-2i-1<br>\n",
        "Since the total number of valid pairs are always equal to half of the array size i.e. n/2, The total minimum number of operations required to make all elements of an array of size n equal is the sum of alln-2i-1 where i= 0,1,...,(n/2)-1.<br><br>\n",
        "\n",
        "Pairs of elements that require min number of operations to make all elements in an array equal when n is even<br><br>\n",
        "\n",
        "TEST 2: When n is odd. E.g. Let n= 5, then arr = [1,3,5,7,9].<br>\n",
        "Notice that in this case, all elements except one can form pairs. This means that since one element can never have a pair, such an element would serve as the target number. The question is which of the elements can serve as the target number? It turns out that we have to consider all possible pair arrangements taking each element as the target number. Notice that whenever an element is taken to be the target number, the remaining four elements can form only three distinct pair arrangements. For example, when the target number is 1, the following pairs are considered : {3,5},{7,9}, {3,7},{5,9}, {3,9},{7,5}.<br><br>\n",
        "\n",
        "Notice the difference with the previous arrangement when n is even. The target number was unknown, hence the order of pairs arrangement was important since the first pair was always used to generate the target number.<br><br>\n",
        "\n",
        "Thus, for each of the 5 possible target numbers, there are 3 possible pairs arrangements. This means that there are 5*3 = 15 arrangements to check. This might be time-consuming and prone to errors during an actual interview. Instead, I would like to apply the same steps we found in Test 1. Since valid pairs are symmetric around the center of the array, the element at the center of the array will always be the target number.<br><br>\n",
        "\n",
        "For the current array,Target number = 5, the pair {3,7} requires 2operations to change its elements to 5. Also, the pair {1,9} requires 4operations to change its elements to 5. If you are able to check all other possible arrangements, you will notice that taking the middle element as the target number would give the optimal solution. Thus, when n is odd, the pair formation looks like the image below.<br><br>\n",
        "\n",
        "Pairs of elements that require min number of operations to make all elements in an array equal when n is odd<br><br>\n",
        "\n",
        "Having got a valid pattern, we can code our first implementation of the solution.<br><br>\n",
        "\n",
        "Java implementation<br><br>\n",
        "\n",
        "Analysis of the Above Approach<br><br>\n",
        "The time complexity of the above approach is O(n).<br>The space complexity is constant since the actual array is never created.<br>\n",
        "Can we do better than this?<br><br>\n",
        "\n",
        "EFFICIENT IMPROVEMENT<br>\n",
        "It’s amazing how the hard-looking problem was reduced to a few lines of understandable code. But we can do more.<br> This time we focus more on the number of operations needed at each step and the patterns that the numbers follow.<br><br>\n",
        "\n",
        "1)When n is even. If you take a bigger even number as n and calculate the number of operations i.e. n-2i-1 from i=0,1,2,...,(n/2)-1, you’ll get the following series n-1, n-3, ..., 7, 5, 3, 1 . When the series is reversed, you’ll get 1, 3, 5, 7, ..., n-3, n-1. If you remember from Math class, this is simply a series of odd numbers starting from 1 or an Arithmetic series with first element = 1 and common difference = 2. The number of elements in the series is exactly n/2. The required result is the sum of this series. Using the formula for the Sum of Arithmetic Series <br>with n elements Sum of A.S = n(2a + (n-1)d)/2, where a= first element, d = common difference, we can calculate the minimum number of operations by substituting n = n/2, a= 1, and d= 2 in the Sum of A.S formula. Hence, Result = (n/2)(2a + (n/2 — 1)d)/2. With further simplification, Result = (n*n)/4.<br><br>\n",
        "\n",
        "2) When n is odd. Using the same approach as above, the following series are generated; 2, 4, 6, ..., n-3, n-1. This is the series of even numbers starting from 2. It is also an Arithmetic Series with n/2 elements where first number, a = 2, commonn difference, d = 2. Using the formula for Sum of A.S as above, the total number of operation required to make all elements in the array equal is also (n*n)/4. Below is the code implementation in Java.<br><br>\n",
        "\n",
        "Analysis<br>\n",
        "This is unbelievably amazing!. Only a single line of code and both time and space complexity are constant.<br><br>\n",
        "\n",
        "Conclusion<br>\n",
        "If you got to this point, Kudos! I believe you learned one or two. Always remember to look for patterns whenever you encounter unfamiliar problems. You can also find out how to find an element from an array that is not sorted, or how to find the shortest subarray that should be sorted in order to keep the whole array sorted.<br><br>\n",
        "\n",
        "Wilson :-)"
      ]
    },
    {
      "cell_type": "code",
      "metadata": {
        "id": "NMxjqixUg0m4"
      },
      "source": [
        ""
      ],
      "execution_count": null,
      "outputs": []
    }
  ]
}