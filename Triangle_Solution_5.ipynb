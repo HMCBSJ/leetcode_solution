{
  "nbformat": 4,
  "nbformat_minor": 0,
  "metadata": {
    "colab": {
      "name": "Triangle  Solution",
      "provenance": []
    },
    "kernelspec": {
      "name": "python3",
      "display_name": "Python 3"
    },
    "language_info": {
      "name": "python"
    }
  },
  "cells": [
    {
      "cell_type": "markdown",
      "metadata": {
        "id": "hZu4cObSHZxp"
      },
      "source": [
        "Idea:\n",
        "\n",
        "(Jump to: Problem Description || Code: JavaScript | Python | Java | C++)\n",
        "\n",
        "If the goal here is to find where a line will cross the fewest bricks, then we could also say that the goal is to find where the most brick edges line up. We can consider the edges to occur at an index representing the current running total of the previous elements of a given row of the wall. For example, if the row is defined as [1,2,2,1], then the inside edges occur at [1,1+2,1+2+2], or [1,3,5].\n",
        "\n",
        "If we now know how to find the edges, then we're left with finding out which index has the highest frequency of edges, which naturally calls for a frequency map.\n",
        "\n",
        "So we can iterate through each row in the wall, keep a running total of the current row (rowSum), and then update the frequency of each edge's index in our frequency map (freq).\n",
        "\n",
        "Once we're done filling freq, we just need to iterate through it to find the highest value (best), which represents the number of edges aligned on a single index. Our actual answer, however, is the number of bricks, not edges, so we should return the total number of rows minus best."
      ]
    },
    {
      "cell_type": "code",
      "metadata": {
        "id": "cX9861eJHe1t"
      },
      "source": [
        "class Solution:\n",
        "    def leastBricks(self, wall: List[List[int]]) -> int:\n",
        "        freq = defaultdict(int)\n",
        "        for row in wall:\n",
        "            rowSum = row[0]\n",
        "            for j in range(1, len(row)):\n",
        "                freq[rowSum] += 1\n",
        "                rowSum += row[j]\n",
        "        return len(wall) - max(freq.values() or [0])"
      ],
      "execution_count": null,
      "outputs": []
    }
  ]
}