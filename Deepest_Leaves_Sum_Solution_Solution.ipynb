{
  "nbformat": 4,
  "nbformat_minor": 0,
  "metadata": {
    "colab": {
      "name": "Deepest Leaves Sum  Solution    Solution",
      "provenance": [],
      "collapsed_sections": []
    },
    "kernelspec": {
      "name": "python3",
      "display_name": "Python 3"
    },
    "language_info": {
      "name": "python"
    }
  },
  "cells": [
    {
      "cell_type": "markdown",
      "metadata": {
        "id": "5biXCJC0e1LW"
      },
      "source": [
        "## Deepest Leaves Sum\n",
        "\n",
        "Solution\n",
        "\n",
        "- python code\n",
        "\n"
      ]
    },
    {
      "cell_type": "markdown",
      "metadata": {
        "id": "Bg7IeCGnecFr"
      },
      "source": [
        "Given an m x n integers matrix, return the length of the longest increasing path in matrix.<br>\n",
        "\n",
        "Given the root of a binary tree, return the sum of values of its deepest leaves.<br>"
      ]
    },
    {
      "cell_type": "markdown",
      "metadata": {
        "id": "LcG-lJ3ee-9x"
      },
      "source": [
        "Example 1:<br>\n",
        "\n",
        "> Input: root = [1,2,3,4,5,null,6,7,null,null,null,null,8]<br>\n",
        "Output: 15<br>\n",
        "\n",
        "Example 2:<br>\n",
        ">Input: root = [6,7,8,2,7,1,3,9,null,1,4,null,null,null,5]<br>\n",
        "Output: 19<br>\n",
        " \n",
        "\n",
        "Constraints:<br>\n",
        "\n",
        "> The number of nodes in the tree is in the range [1, 104].<br>\n",
        "1 <= Node.val <= 100<br>\n",
        "\n",
        "\n",
        "\n",
        "\n"
      ]
    },
    {
      "cell_type": "code",
      "metadata": {
        "id": "HcbNt14r_Ivp"
      },
      "source": [
        "#w/ BFS:\n",
        "class Solution:\n",
        "    def deepestLeavesSum(self, root: TreeNode) -> int:\n",
        "        q, ans, qlen, curr = [root], 0, 0, 0\n",
        "        while len(q):\n",
        "            qlen, ans = len(q), 0\n",
        "            for _ in range(qlen):\n",
        "                curr = q.pop(0)\n",
        "                ans += curr.val\n",
        "                if curr.left: q.append(curr.left)\n",
        "                if curr.right: q.append(curr.right)\n",
        "        return ans"
      ],
      "execution_count": null,
      "outputs": []
    },
    {
      "cell_type": "code",
      "metadata": {
        "id": "wPVfkcMhoehc"
      },
      "source": [
        "#w/ Recursive DFS:\n",
        "class Solution:\n",
        "    def deepestLeavesSum(self, root: TreeNode) -> int:\n",
        "        sums = []\n",
        "        def dfs(node: TreeNode, lvl: int):\n",
        "            if lvl == len(sums): sums.append(node.val)\n",
        "            else: sums[lvl] += node.val\n",
        "            if node.left: dfs(node.left, lvl+1)\n",
        "            if node.right: dfs(node.right, lvl+1)\n",
        "        dfs(root, 0)\n",
        "        return sums[-1]"
      ],
      "execution_count": null,
      "outputs": []
    },
    {
      "cell_type": "code",
      "metadata": {
        "id": "LORrBsLbBp1r"
      },
      "source": [
        "test = Solution()"
      ],
      "execution_count": null,
      "outputs": []
    },
    {
      "cell_type": "code",
      "metadata": {
        "id": "gV7yOnI5dGus"
      },
      "source": [
        ""
      ],
      "execution_count": null,
      "outputs": []
    },
    {
      "cell_type": "code",
      "metadata": {
        "id": "NMxjqixUg0m4"
      },
      "source": [
        ""
      ],
      "execution_count": null,
      "outputs": []
    }
  ]
}