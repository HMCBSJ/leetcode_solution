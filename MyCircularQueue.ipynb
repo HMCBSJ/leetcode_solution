{
  "nbformat": 4,
  "nbformat_minor": 0,
  "metadata": {
    "colab": {
      "name": "MyCircularQueue.ipynb",
      "provenance": [],
      "collapsed_sections": []
    },
    "kernelspec": {
      "name": "python3",
      "display_name": "Python 3"
    },
    "language_info": {
      "name": "python"
    }
  },
  "cells": [
    {
      "cell_type": "markdown",
      "metadata": {
        "id": "5biXCJC0e1LW"
      },
      "source": [
        "## MyCircularQueue"
      ]
    },
    {
      "cell_type": "markdown",
      "metadata": {
        "id": "Bg7IeCGnecFr"
      },
      "source": [
        "Design your implementation of the circular queue. The circular queue is a linear data structure in which the operations are performed based on FIFO (First In First Out) principle and the last position is connected back to the first position to make a circle. It is also called \"Ring Buffer\".\n",
        "\n",
        "One of the benefits of the circular queue is that we can make use of the spaces in front of the queue. In a normal queue, once the queue becomes full, we cannot insert the next element even if there is a space in front of the queue. But using the circular queue, we can use the space to store new values.\n",
        "\n",
        "Implementation the MyCircularQueue class:\n",
        "\n",
        "MyCircularQueue(k) Initializes the object with the size of the queue to be k.\n",
        "\n",
        "> int Front() Gets the front item from the queue. If the queue is empty, return -1.<br>\n",
        "int Rear() Gets the last item from the queue. If the queue is empty, return -1.<br>\n",
        "boolean enQueue(int value) Inserts an element into the circular queue. Return true if the operation is successful.<br>\n",
        "boolean deQueue() Deletes an element from the circular queue. Return true if the operation is successful.<br>\n",
        "boolean isEmpty() Checks whether the circular queue is empty or not.<br>\n",
        "boolean isFull() Checks whether the circular queue is full or not.\n",
        "\n",
        "\n",
        "\n",
        "You must solve the problem without using the built-in queue data structure in your programming language. "
      ]
    },
    {
      "cell_type": "markdown",
      "metadata": {
        "id": "LcG-lJ3ee-9x"
      },
      "source": [
        "Example 1:<br>\n",
        "**Input**<br>\n",
        "> [\"MyCircularQueue\", \"enQueue\", \"enQueue\", \"enQueue\", \"enQueue\", \"Rear\", \"isFull\", \"deQueue\", \"enQueue\", \"Rear\"]\n",
        "[[3], [1], [2], [3], [4], [], [], [], [4], []]<br><br>\n",
        "\n",
        "**Output**<br>\n",
        "> [null, true, true, true, false, 3, true, true, true, 4]\n",
        "\n",
        "**Explanation**<br>\n",
        "> MyCircularQueue myCircularQueue = new MyCircularQueue(3);<br>\n",
        "myCircularQueue.enQueue(1); // return True<br>\n",
        "myCircularQueue.enQueue(2); // return True<br>\n",
        "myCircularQueue.enQueue(3); // return True<br>\n",
        "myCircularQueue.enQueue(4); // return False<br>\n",
        "myCircularQueue.Rear();     // return 3<br>\n",
        "myCircularQueue.isFull();   // return True<br>\n",
        "myCircularQueue.deQueue();  // return True<br>\n",
        "myCircularQueue.enQueue(4); // return True<br>\n",
        "myCircularQueue.Rear();     // return 4<br><br>\n",
        "\n",
        "\n",
        "Constraints:<br>\n",
        "\n",
        "> 1 <= k <= 1000<br>\n",
        "0 <= value <= 1000<br>\n",
        "At most 3000 calls will be made to enQueue, deQueue,<br> Front, Rear, isEmpty, and isFull.<br>\n",
        "\n",
        "\n"
      ]
    },
    {
      "cell_type": "code",
      "metadata": {
        "id": "GRVN3nop7Xzj"
      },
      "source": [
        "class MyCircularQueue:\n",
        "    def __init__(self, k: int):\n",
        "        self.data = [0] * k\n",
        "        self.maxSize = k\n",
        "        self.head = 0\n",
        "        self.tail = -1\n",
        "    def enQueue(self, val: int) -> bool:\n",
        "        if self.isFull(): return False\n",
        "        self.tail = (self.tail + 1) % self.maxSize\n",
        "        self.data[self.tail] = val\n",
        "        return True\n",
        "    def deQueue(self) -> bool:\n",
        "        if self.isEmpty(): return False\n",
        "        if self.head == self.tail: self.head, self.tail = 0, -1\n",
        "        else: self.head = (self.head + 1) % self.maxSize\n",
        "        return True\n",
        "    def Front(self) -> int:\n",
        "        return -1 if self.isEmpty() else self.data[self.head]\n",
        "    def Rear(self) -> int:\n",
        "        return -1 if self.isEmpty() else self.data[self.tail]\n",
        "    def isEmpty(self) -> bool:\n",
        "        return self.tail == -1\n",
        "    def isFull(self) -> bool:\n",
        "        return not self.isEmpty() and (self.tail + 1) % self.maxSize == self.head\n"
      ],
      "execution_count": null,
      "outputs": []
    },
    {
      "cell_type": "code",
      "metadata": {
        "id": "LORrBsLbBp1r"
      },
      "source": [
        ""
      ],
      "execution_count": null,
      "outputs": []
    }
  ]
}