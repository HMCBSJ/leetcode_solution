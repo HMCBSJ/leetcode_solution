{
  "nbformat": 4,
  "nbformat_minor": 0,
  "metadata": {
    "colab": {
      "name": "Count Binary Substrings",
      "provenance": []
    },
    "kernelspec": {
      "name": "python3",
      "display_name": "Python 3"
    },
    "language_info": {
      "name": "python"
    }
  },
  "cells": [
    {
      "cell_type": "markdown",
      "metadata": {
        "id": "hZu4cObSHZxp"
      },
      "source": [
        "Since the 0's and 1's have to be grouped consecutively, we only have to be concerned with the most recent two groups (curr, prev) at any time as we iterate through the input string (s). Since each addition to our answer (ans) must therefore be centered on the \"edge\" between the two groups, we should be able to count multiple increases to ans at the same time.\n",
        "\n",
        "For example, if we find a group that is \"0001111\", then we know that we've found multiple answer counts centered on the \"01\". Each additional extra character on both sides will be an extra answer, which means that \"0011\" and \"000111\" are also answers. In other words, the number that we should add to ans is equal to min(zeros, ones), or 3 in this example.\n",
        "\n",
        "So we can now iterate through s, keeping track of the curr and prev groups, and when we find the end of a group, we can calculate our addition to ans and then swap the two variables while resetting curr to 1.\n",
        "\n",
        "Since we're going to be comparing s[i] to s[i-1] to see if the character has changed, we'll need to start our iteration with i = 1 which means we should define a starting value for curr of 1. Also, since the end of s is technically the end of a group, we should add another min(curr, prev) onto ans before we return ans, as it won't be accounted for in the iteration through s.\n",
        "\n",
        "Time Complexity: O(N) where N is the length of s\n",
        "Space Complexity: O(1)"
      ]
    },
    {
      "cell_type": "code",
      "metadata": {
        "id": "cX9861eJHe1t"
      },
      "source": [
        "class Solution:\n",
        "    def countBinarySubstrings(self, s: str) -> int:\n",
        "        curr, prev, ans = 1, 0, 0\n",
        "        for i in range(1, len(s)):\n",
        "            if s[i] == s[i-1]: curr += 1\n",
        "            else:\n",
        "                ans += min(curr, prev)\n",
        "                prev, curr = curr, 1\n",
        "        return ans + min(curr, prev)"
      ],
      "execution_count": 1,
      "outputs": []
    },
    {
      "cell_type": "code",
      "metadata": {
        "id": "yJaRwLHpjmtE"
      },
      "source": [
        ""
      ],
      "execution_count": null,
      "outputs": []
    }
  ]
}