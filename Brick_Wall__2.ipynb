{
  "nbformat": 4,
  "nbformat_minor": 0,
  "metadata": {
    "colab": {
      "name": "Brick Wall",
      "provenance": [],
      "collapsed_sections": []
    },
    "kernelspec": {
      "name": "python3",
      "display_name": "Python 3"
    },
    "language_info": {
      "name": "python"
    }
  },
  "cells": [
    {
      "cell_type": "markdown",
      "metadata": {
        "id": "5biXCJC0e1LW"
      },
      "source": [
        "## Number of Submatrices That Sum to Target\n",
        "\n",
        "---\n",
        "\n",
        "\n",
        "\n",
        "---\n",
        "\n",
        "\n",
        "\n",
        "Solution\n",
        "\n",
        "- python code\n",
        "\n"
      ]
    },
    {
      "cell_type": "markdown",
      "metadata": {
        "id": "Bg7IeCGnecFr"
      },
      "source": [
        "\n",
        "\n",
        "> Idea:\n",
        "\n",
        "(Jump to: Problem Description || Code: JavaScript | Python | Java | C++)\n",
        "\n",
        "This problem is essentially a 2-dimensional version of #560. Subarray Sum Equals K (S.S.E.K). By using a prefix sum on each row or each column, we can compress this problem down to either N^2 iterations of the O(M) SSEK, or M^2 iterations of the O(N) SSEK.\n",
        "\n",
        "In the SSEK solution, we can find the number of subarrays with the target sum by utilizing a result map (res) to store the different values found as we iterate through the array while keeping a running sum (csum). Just as in the case with a prefix sum array, the sum of a subarray between i and j is equal to the sum of the subarray from 0 to j minus the sum of the subarray from 0 to i-1.\n",
        "\n",
        "Rather than iteratively checking if sum[0,j] - sum[0,i-1] = T for every pair of i, j values, we can flip it around to sum[0,j] - T = sum[0,i-1] and since every earlier sum value has been stored in res, we can simply perform a lookup on sum[0,j] - T to see if there are any matches.\n",
        "\n",
        "When extrapolating this solution to our 2-dimensional matrix (M), we will need to first prefix sum the rows or columns, (which we can do in-place to avoid extra space, as we will not need the original values again). Then we should iterate through M again in the opposite order of rows/columns where the prefix sums will allow us to treat a group of columns or rows as if it were a 1-dimensional array and apply the SSEK algorithm.\n",
        " "
      ]
    },
    {
      "cell_type": "code",
      "metadata": {
        "id": "ObkCA_7yROgo"
      },
      "source": [
        "class Solution:\n",
        "    def numSubmatrixSumTarget(self, M: List[List[int]], T: int) -> int:\n",
        "        xlen, ylen, ans, res = len(M[0]), len(M), 0, defaultdict(int)\n",
        "        for r in M:\n",
        "            for j in range(1, xlen):\n",
        "                r[j] += r[j-1]\n",
        "        for j in range(xlen):\n",
        "            for k in range(j, xlen):\n",
        "                res.clear()\n",
        "                res[0], csum = 1, 0\n",
        "                for i in range(ylen):\n",
        "                    csum += M[i][k] - (M[i][j-1] if j else 0)\n",
        "                    ans += res[csum - T]\n",
        "                    res[csum] += 1\n",
        "        return ans"
      ],
      "execution_count": null,
      "outputs": []
    },
    {
      "cell_type": "code",
      "metadata": {
        "id": "dw6DxG4FROjE"
      },
      "source": [
        "#w/ Top-Down DP:\n",
        "class Solution:\n",
        "    def combinationSum4(self, N: List[int], T: int) -> int:\n",
        "        dp = [0] * (T + 1)\n",
        "        dp[0] = 1\n",
        "        for i in range(1, T+1):\n",
        "            for num in N:\n",
        "                if num <= i: dp[i] += dp[i-num]\n",
        "        return dp[T]\n",
        "\n",
        "#w/ Bottom-Up DP:\n",
        "class Solution:\n",
        "    def combinationSum4(self, N: List[int], T: int) -> int:\n",
        "        dp = [0] * (T + 1)\n",
        "        dp[0] = 1\n",
        "        for i in range(T):\n",
        "            if not dp[i]: continue\n",
        "            for num in N:\n",
        "                if num + i <= T: dp[i+num] += dp[i]\n",
        "        return dp[T]"
      ],
      "execution_count": null,
      "outputs": []
    },
    {
      "cell_type": "code",
      "metadata": {
        "id": "G8kC-suhROmB"
      },
      "source": [
        ""
      ],
      "execution_count": null,
      "outputs": []
    }
  ]
}