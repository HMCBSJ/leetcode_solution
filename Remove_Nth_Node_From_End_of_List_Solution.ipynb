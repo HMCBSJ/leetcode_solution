{
  "nbformat": 4,
  "nbformat_minor": 0,
  "metadata": {
    "colab": {
      "name": "Remove Nth Node From End of List Solution",
      "provenance": []
    },
    "kernelspec": {
      "name": "python3",
      "display_name": "Python 3"
    },
    "language_info": {
      "name": "python"
    }
  },
  "cells": [
    {
      "cell_type": "markdown",
      "metadata": {
        "id": "56BpJ3wDEjxV"
      },
      "source": [
        "Given the head of a linked list, remove the nth node from the end of the list and return its head."
      ]
    },
    {
      "cell_type": "code",
      "metadata": {
        "id": "Sxv37Pj4EjIO"
      },
      "source": [
        "class Solution:\n",
        "    def removeNthFromEnd(self, head: ListNode, n: int) -> ListNode:\n",
        "        fast, slow = head, head\n",
        "        for _ in range(n): fast = fast.next\n",
        "        if not fast: return head.next\n",
        "        while fast.next: fast, slow = fast.next, slow.next\n",
        "        slow.next = slow.next.next\n",
        "        return head"
      ],
      "execution_count": null,
      "outputs": []
    }
  ]
}