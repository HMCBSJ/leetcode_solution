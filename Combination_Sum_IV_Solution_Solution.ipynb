{
  "nbformat": 4,
  "nbformat_minor": 0,
  "metadata": {
    "colab": {
      "name": "Combination Sum IV  Solution Solution",
      "provenance": []
    },
    "kernelspec": {
      "name": "python3",
      "display_name": "Python 3"
    },
    "language_info": {
      "name": "python"
    }
  },
  "cells": [
    {
      "cell_type": "markdown",
      "metadata": {
        "id": "56BpJ3wDEjxV"
      },
      "source": [
        "> Description\n",
        "\n",
        "Given an array of distinct integers nums and a target integer target, return the number of possible combinations that add up to target.\n",
        "\n",
        "The answer is guaranteed to fit in a 32-bit integer.\n",
        "\n",
        "\n",
        "\n",
        "> Idea:\n",
        "\n",
        "(Jump to: Problem Description || Code: JavaScript | Python | Java | C++)\n",
        "\n",
        "With this problem, we can easily imagine breaking up the solution into smaller pieces that we can use as stepping stones towards the overall answer. For example, if we're searching for a way to get from 0 to our target number (T), and if 0 < x < y < T, then we can see that finding out how many ways we can get from y to T will help us figure out how many ways we can get from x to T, all the way down to 0 to T. This is a classic example of a top-down (memoization) dyanamic programming (DP) solution.\n",
        "\n",
        "Of course, the reverse is also true, and we could instead choose to use a bottom-up (tabulation) DP solution with the same result.\n",
        "\n",
        "Top-Down DP Approach: Our DP array (dp) will contain cells (dp[i]) where i will represent the remaining space left before T and dp[i] will represent the number of ways the solution (dp[T]) can be reached from i.\n",
        "\n",
        "At each value of i as we build out dp we'll iterate through the different nums in our number array (N) and consider the cell that can be reached with each num (dp[i-num]). The value of dp[i] will therefore be the sum of the results of each of those possible moves.\n",
        "\n",
        "We'll need to seed dp[0] with a value of 1 to represent the value of the completed combination, then once the iteration is complete, we can return dp[T] as our final answer.\n",
        "\n",
        "Bottom-Up DP Approach: Our DP array (dp) will contain cells (dp[i]) where i will represent the current count as we head towards T and dp[i] will represent the number of ways we can reach i from the starting point (dp[0]). This means that dp[T] will represent our final solution.\n",
        "\n",
        "At each value of i as we build out dp we'll iterate through the different nums in our number array (N) and update the value of the cell that can be reached with each num (dp[i+num]) by adding the result of the current cell (dp[i]). If the current cell has no value, then we can continue without needing to iterate through N.\n",
        "\n",
        "We'll need to seed dp[0] with a value of 1 to represent the value of the common starting point, then once the iteration is complete, we can return dp[T] as our final answer.\n",
        "\n",
        "In both the top-down and bottom-up DP solutions, the time complexity is O(N * T) and the space complexity is O(T).\n",
        "\n",
        "\n",
        "\n",
        "> Implementation:\n",
        "\n",
        "\n",
        "For C++ we'll have to make sure to use unsigned ints in our dp vector, otherwise we'll get int overflow errors.\n",
        "\n",
        "\n",
        "\n",
        "\n"
      ]
    },
    {
      "cell_type": "code",
      "metadata": {
        "id": "Sxv37Pj4EjIO"
      },
      "source": [
        "#w/ Top-Down DP:\n",
        "class Solution:\n",
        "    def combinationSum4(self, N: List[int], T: int) -> int:\n",
        "        dp = [0] * (T + 1)\n",
        "        dp[0] = 1\n",
        "        for i in range(1, T+1):\n",
        "            for num in N:\n",
        "                if num <= i: dp[i] += dp[i-num]\n",
        "        return dp[T]\n"
      ],
      "execution_count": null,
      "outputs": []
    },
    {
      "cell_type": "code",
      "metadata": {
        "id": "Z2ObNkfYbniS"
      },
      "source": [
        "#w/ Bottom-Up DP:\n",
        "class Solution:\n",
        "    def combinationSum4(self, N: List[int], T: int) -> int:\n",
        "        dp = [0] * (T + 1)\n",
        "        dp[0] = 1\n",
        "        for i in range(T):\n",
        "            if not dp[i]: continue\n",
        "            for num in N:\n",
        "                if num + i <= T: dp[i+num] += dp[i]\n",
        "        return dp[T]"
      ],
      "execution_count": null,
      "outputs": []
    }
  ]
}