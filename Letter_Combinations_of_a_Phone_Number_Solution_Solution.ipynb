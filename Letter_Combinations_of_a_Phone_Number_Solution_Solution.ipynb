{
  "nbformat": 4,
  "nbformat_minor": 0,
  "metadata": {
    "colab": {
      "name": "Letter Combinations of a Phone Number  Solution  Solution",
      "provenance": [],
      "collapsed_sections": []
    },
    "kernelspec": {
      "name": "python3",
      "display_name": "Python 3"
    },
    "language_info": {
      "name": "python"
    }
  },
  "cells": [
    {
      "cell_type": "markdown",
      "metadata": {
        "id": "5biXCJC0e1LW"
      },
      "source": [
        "## Letter Combinations of a Phone Number\n",
        "\n"
      ]
    },
    {
      "cell_type": "markdown",
      "metadata": {
        "id": "Bg7IeCGnecFr"
      },
      "source": [
        "Given a string containing digits from 2-9 inclusive, return all possible letter combinations that the number could represent. Return the answer in any order.<br><br>\n",
        "\n",
        "A mapping of digit to letters (just like on the telephone buttons) is given below. Note that 1 does not map to any letters.<br><br>"
      ]
    },
    {
      "cell_type": "markdown",
      "metadata": {
        "id": "LcG-lJ3ee-9x"
      },
      "source": [
        "Example 1:<br>\n",
        "\n",
        "> Input: digits = \"23\"\n",
        "Output: [\"ad\",\"ae\",\"af\",\"bd\",\"be\",\"bf\",\"cd\",\"ce\",\"cf\"]\n",
        "\n",
        "Example 2:\n",
        ">Input: digits = \"\"\n",
        "Output: []<br>\n",
        "\n",
        "Example 3:\n",
        "\n",
        "> Input: digits = \"2\"\n",
        "Output: [\"a\",\"b\",\"c\"]\n",
        "\n",
        "Constraints:<br>\n",
        "\n",
        "> 0 <= digits.length <= 4\n",
        "digits[i] is a digit in the range ['2', '9'].\n",
        "\n",
        "\n"
      ]
    },
    {
      "cell_type": "code",
      "metadata": {
        "id": "GRVN3nop7Xzj"
      },
      "source": [
        "L = {'2':\"abc\",'3':\"def\",'4':\"ghi\",'5':\"jkl\",\n",
        "     '6':\"mno\",'7':\"pqrs\",'8':\"tuv\",'9':\"wxyz\"}\n",
        "\n",
        "class Solution:\n",
        "    def letterCombinations(self, D: str) -> List[str]:\n",
        "        lenD, ans = len(D), []\n",
        "        if D == \"\": return []\n",
        "        def bfs(pos: int, st: str):\n",
        "            if pos == lenD: ans.append(st)\n",
        "            else:\n",
        "                letters = L[D[pos]]\n",
        "                for letter in letters:\n",
        "                    bfs(pos+1,st+letter)\n",
        "        bfs(0,\"\")\n",
        "        return ans"
      ],
      "execution_count": 15,
      "outputs": []
    },
    {
      "cell_type": "code",
      "metadata": {
        "id": "LORrBsLbBp1r"
      },
      "source": [
        "test = Solution()"
      ],
      "execution_count": 16,
      "outputs": []
    },
    {
      "cell_type": "code",
      "metadata": {
        "id": "9iPIU2wgdB89"
      },
      "source": [
        "test.letterCombinations()"
      ],
      "execution_count": null,
      "outputs": []
    },
    {
      "cell_type": "code",
      "metadata": {
        "id": "gV7yOnI5dGus"
      },
      "source": [
        ""
      ],
      "execution_count": null,
      "outputs": []
    },
    {
      "cell_type": "code",
      "metadata": {
        "id": "NMxjqixUg0m4"
      },
      "source": [
        ""
      ],
      "execution_count": null,
      "outputs": []
    }
  ]
}