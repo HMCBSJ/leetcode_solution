{
  "nbformat": 4,
  "nbformat_minor": 0,
  "metadata": {
    "colab": {
      "name": "N-ary Tree Preorder Traversal Solution",
      "provenance": []
    },
    "kernelspec": {
      "name": "python3",
      "display_name": "Python 3"
    },
    "language_info": {
      "name": "python"
    }
  },
  "cells": [
    {
      "cell_type": "markdown",
      "metadata": {
        "id": "56BpJ3wDEjxV"
      },
      "source": [
        "> Description\n",
        "\n",
        "Given the root of an n-ary tree, return the preorder traversal of its nodes' values.\n",
        "\n",
        "Nary-Tree input serialization is represented in their level order traversal. Each group of children is separated by the null value (See examples)\n"
      ]
    },
    {
      "cell_type": "code",
      "metadata": {
        "id": "Sxv37Pj4EjIO"
      },
      "source": [
        "class Solution:\n",
        "    def preorder(self, root: 'Node', ans: list = None) -> List[int]:\n",
        "        if not root: return ans\n",
        "        if ans == None: ans = []\n",
        "        ans.append(root.val)\n",
        "        for child in root.children:\n",
        "            self.preorder(child, ans)\n",
        "        return ans\n"
      ],
      "execution_count": null,
      "outputs": []
    },
    {
      "cell_type": "code",
      "metadata": {
        "id": "Z2ObNkfYbniS"
      },
      "source": [
        " "
      ],
      "execution_count": null,
      "outputs": []
    }
  ]
}