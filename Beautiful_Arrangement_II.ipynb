{
  "nbformat": 4,
  "nbformat_minor": 0,
  "metadata": {
    "colab": {
      "name": "Beautiful Arrangement II",
      "provenance": [],
      "collapsed_sections": []
    },
    "kernelspec": {
      "name": "python3",
      "display_name": "Python 3"
    },
    "language_info": {
      "name": "python"
    }
  },
  "cells": [
    {
      "cell_type": "markdown",
      "metadata": {
        "id": "5biXCJC0e1LW"
      },
      "source": [
        "## Deepest Leaves Sum\n",
        "\n",
        "Solution\n",
        "\n",
        "- python code\n",
        "\n"
      ]
    },
    {
      "cell_type": "markdown",
      "metadata": {
        "id": "Bg7IeCGnecFr"
      },
      "source": [
        "\n",
        "\n",
        "> Suppose this list is answer = [a1, a2, a3, ... , an], then the list [|a1 - a2|, |a2 - a3|, |a3 - a4|, ... , |an-1 - an|] has exactly k distinct integers.<br>\n",
        "Return the list answer. If there multiple valid answers, return any of them.\n"
      ]
    },
    {
      "cell_type": "markdown",
      "metadata": {
        "id": "LcG-lJ3ee-9x"
      },
      "source": [
        "Example 1:<br>\n",
        "\n",
        "> Input: n = 3, k = 1<br>\n",
        "Output: [1,2,3]<br>\n",
        "Explanation: The [1,2,3] has three different positive integers ranging <br>from 1 to 3, and the [1,1] has exactly 1 distinct integer: 1<br>\n",
        "\n",
        "Example 2:<br>\n",
        ">Input: n = 3, k = 2<br>\n",
        "Output: [1,3,2]<br>\n",
        "Explanation: The [1,3,2] has three different positive integers ranging <br>from 1 to 3, and the [2,1] has exactly 2 distinct integers: 1 and 2.<br>\n",
        " \n",
        "\n",
        "Constraints:<br>\n",
        "\n",
        ">1 <= k < n <= 104<br>\n",
        "\n",
        "\n",
        "\n"
      ]
    },
    {
      "cell_type": "code",
      "metadata": {
        "id": "wPVfkcMhoehc"
      },
      "source": [
        "class Solution:\n",
        "    def constructArray(self, n: int, k: int) -> List[int]:\n",
        "        ans, a, z = [0] * n, 1, k + 1\n",
        "        for i in range(k+1):\n",
        "            if i % 2:\n",
        "                ans[i] = z\n",
        "                z -= 1\n",
        "            else:\n",
        "                ans[i] = a\n",
        "                a += 1\n",
        "        for i in range(k+1,n):\n",
        "            ans[i] = i + 1\n",
        "        return ans"
      ],
      "execution_count": null,
      "outputs": []
    },
    {
      "cell_type": "code",
      "metadata": {
        "id": "ObkCA_7yROgo"
      },
      "source": [
        ""
      ],
      "execution_count": null,
      "outputs": []
    },
    {
      "cell_type": "code",
      "metadata": {
        "id": "dw6DxG4FROjE"
      },
      "source": [
        ""
      ],
      "execution_count": null,
      "outputs": []
    },
    {
      "cell_type": "code",
      "metadata": {
        "id": "G8kC-suhROmB"
      },
      "source": [
        ""
      ],
      "execution_count": null,
      "outputs": []
    }
  ]
}