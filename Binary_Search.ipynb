{
  "nbformat": 4,
  "nbformat_minor": 0,
  "metadata": {
    "colab": {
      "name": "Binary Search.ipynb",
      "provenance": []
    },
    "kernelspec": {
      "name": "python3",
      "display_name": "Python 3"
    },
    "language_info": {
      "name": "python"
    }
  },
  "cells": [
    {
      "cell_type": "markdown",
      "metadata": {
        "id": "78X0xl6dsi3F"
      },
      "source": [
        "Given an array of integers nums which is sorted in ascending order, and an integer target, write a function to search target in nums. If target exists, then return its index. Otherwise, return -1.\n",
        "\n",
        "You must write an algorithm with O(log n) runtime complexity."
      ]
    },
    {
      "cell_type": "code",
      "metadata": {
        "id": "NXHXaZspsUbG"
      },
      "source": [
        "class Solution {\n",
        "  public int search(int[] nums, int target) {\n",
        "    int pivot, left = 0, right = nums.length - 1;\n",
        "    while (left <= right) {\n",
        "      pivot = left + (right - left) / 2;\n",
        "      if (nums[pivot] == target) return pivot;\n",
        "      if (target < nums[pivot]) right = pivot - 1;\n",
        "      else left = pivot + 1;\n",
        "    }\n",
        "    return -1;\n",
        "  }\n",
        "}"
      ],
      "execution_count": null,
      "outputs": []
    }
  ]
}