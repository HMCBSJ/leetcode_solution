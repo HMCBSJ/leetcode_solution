{
  "nbformat": 4,
  "nbformat_minor": 0,
  "metadata": {
    "colab": {
      "name": "Partition List Solution",
      "provenance": [],
      "collapsed_sections": []
    },
    "kernelspec": {
      "name": "python3",
      "display_name": "Python 3"
    },
    "language_info": {
      "name": "python"
    }
  },
  "cells": [
    {
      "cell_type": "markdown",
      "metadata": {
        "id": "5biXCJC0e1LW"
      },
      "source": [
        "## Flatten Nested List Iterator \n",
        "\n",
        "Solution\n",
        "\n",
        "- python code\n",
        "\n"
      ]
    },
    {
      "cell_type": "markdown",
      "metadata": {
        "id": "Bg7IeCGnecFr"
      },
      "source": [
        "\n",
        "\n",
        "> You are given a nested list of integers nestedList. Each element is either an integer or a list whose elements may also be integers or other lists. Implement an iterator to flatten it."
      ]
    },
    {
      "cell_type": "markdown",
      "metadata": {
        "id": "LcG-lJ3ee-9x"
      },
      "source": [
        "Given the head of a linked list and a value x, partition it such that all nodes less than x come before nodes greater than or equal to x.\n",
        "\n",
        "You should preserve the original relative order of the nodes in each of the two partitions.\n",
        "\n",
        "\n",
        "\n"
      ]
    },
    {
      "cell_type": "code",
      "metadata": {
        "id": "wPVfkcMhoehc"
      },
      "source": [
        "class Solution:\n",
        "    def partition(self, head: ListNode, x: int) -> ListNode:\n",
        "        fdum, bdum = ListNode(0), ListNode(0)\n",
        "        front, back, curr = fdum, bdum, head\n",
        "        while curr:\n",
        "            if curr.val < x:\n",
        "                front.next = curr\n",
        "                front = curr\n",
        "            else:\n",
        "                back.next = curr\n",
        "                back = curr\n",
        "            curr = curr.next\n",
        "        front.next, back.next = bdum.next, None\n",
        "        return fdum.next"
      ],
      "execution_count": null,
      "outputs": []
    },
    {
      "cell_type": "code",
      "metadata": {
        "id": "ObkCA_7yROgo"
      },
      "source": [
        ""
      ],
      "execution_count": null,
      "outputs": []
    },
    {
      "cell_type": "code",
      "metadata": {
        "id": "dw6DxG4FROjE"
      },
      "source": [
        ""
      ],
      "execution_count": null,
      "outputs": []
    },
    {
      "cell_type": "code",
      "metadata": {
        "id": "G8kC-suhROmB"
      },
      "source": [
        ""
      ],
      "execution_count": null,
      "outputs": []
    }
  ]
}